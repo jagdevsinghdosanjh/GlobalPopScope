{
 "cells": [
  {
   "cell_type": "markdown",
   "id": "2ac0260c",
   "metadata": {},
   "source": [
    "# 🌍 Global Population Overview\n",
    "### An introductory analysis notebook for GlobalPopScope — retrieving and visualizing population data across countries.\n"
   ]
  },
  {
   "cell_type": "markdown",
   "id": "4189b7e3",
   "metadata": {},
   "source": [
    "## 1. Setup & Imports ```python\n",
    "import requests\n",
    "import pandas as pd\n",
    "import matplotlib.pyplot as plt\n",
    "import seaborn as sns"
   ]
  },
  {
   "cell_type": "code",
   "execution_count": null,
   "id": "366e4187",
   "metadata": {},
   "outputs": [],
   "source": [
    "%pip install requests pandas matplotlib seaborn"
   ]
  },
  {
   "cell_type": "code",
   "execution_count": 1,
   "id": "b316899a",
   "metadata": {},
   "outputs": [],
   "source": [
    "import requests\n",
    "import pandas as pd\n",
    "import matplotlib.pyplot as plt\n",
    "import seaborn as sns"
   ]
  },
  {
   "cell_type": "markdown",
   "id": "87e6bf6e",
   "metadata": {},
   "source": [
    "# Fetch Data from World Bank API"
   ]
  },
  {
   "cell_type": "code",
   "execution_count": 2,
   "id": "cf7824ae",
   "metadata": {},
   "outputs": [],
   "source": [
    "url = \"http://api.worldbank.org/v2/country/all/indicator/SP.POP.TOTL\"\n",
    "params = {\n",
    "    \"format\": \"json\",\n",
    "    \"date\": \"2000:2023\",\n",
    "    \"per_page\": \"20000\"\n",
    "}\n",
    "\n",
    "response = requests.get(url, params=params)\n",
    "data = response.json()[1]\n",
    "df = pd.DataFrame(data)\n"
   ]
  },
  {
   "cell_type": "markdown",
   "id": "42295a02",
   "metadata": {},
   "source": [
    "# Cleaning and Reformatting"
   ]
  },
  {
   "cell_type": "code",
   "execution_count": null,
   "id": "07eeeb28",
   "metadata": {},
   "outputs": [],
   "source": [
    "# Cleaning and Reformatting\n",
    "df_clean = df[['country', 'countryiso3code', 'date', 'value']]\n",
    "df_clean.columns = ['Country', 'ISO3', 'Year', 'Population']\n",
    "df_clean = df_clean.dropna()\n",
    "df_clean['Year'] = df_clean['Year'].astype(int)\n",
    "\n"
   ]
  },
  {
   "cell_type": "markdown",
   "id": "cd84ee28",
   "metadata": {},
   "source": [
    "# Exploring and Visualizing"
   ]
  },
  {
   "cell_type": "code",
   "execution_count": null,
   "id": "310a18a3",
   "metadata": {},
   "outputs": [],
   "source": [
    "top_countries = ['IND', 'CHN', 'USA']\n",
    "subset = df_clean[df_clean['ISO3'].isin(top_countries)].copy()\n",
    "\n",
    "# Extract country name from dictionary\n",
    "subset['CountryName'] = subset['Country'].apply(lambda x: x['value'] if isinstance(x, dict) and 'value' in x else str(x))\n",
    "\n",
    "plt.figure(figsize=(10, 6))\n",
    "sns.lineplot(data=subset, x='Year', y='Population', hue='CountryName')\n",
    "plt.title(\"Population Growth (2000–2023)\")\n",
    "plt.ylabel(\"Total Population\")\n",
    "plt.grid(True)\n",
    "plt.legend(title='Country')\n",
    "plt.show()\n"
   ]
  },
  {
   "cell_type": "markdown",
   "id": "181922f4",
   "metadata": {},
   "source": [
    "# Insights\n",
    "China's growth is flattening — is this the impact of aging population or policy?\n",
    "\n",
    "India's trajectory is still upward — what does this mean for resource planning?\n",
    "\n",
    "USA shows steady growth — but are subnational trends telling a different story?\n",
    "\n",
    "---\n",
    "\n",
    "We can dive right into fetching real data with features we can choose — region, demographic, or year range."
   ]
  },
  {
   "cell_type": "markdown",
   "id": "a53dda17",
   "metadata": {},
   "source": [
    "# 1️⃣ Add Age-Sex Breakdown via UN WPP API\n",
    "To access detailed age-sex population data from the UN World Population Prospects (WPP):\n",
    "\n",
    "🔧 Use the wpp2022 R Package\n",
    "Install it from GitHub:\n",
    "install.packages(\"devtools\")\n",
    "devtools::install_github(\"PPgp/wpp2022\")\n",
    "library(wpp2022)"
   ]
  },
  {
   "cell_type": "code",
   "execution_count": null,
   "id": "944b37bb",
   "metadata": {},
   "outputs": [],
   "source": [
    "# If you want to run R code in a Python notebook, use the %%R magic\n",
    "# First, install rpy2 if not already installed\n",
    "# %pip install rpy2   # Already installed in cell 2\n",
    "\n",
    "# Then, use the following cell magic to run R code"
   ]
  }
 ],
 "metadata": {
  "kernelspec": {
   "display_name": ".venv",
   "language": "python",
   "name": "python3"
  },
  "language_info": {
   "codemirror_mode": {
    "name": "ipython",
    "version": 3
   },
   "file_extension": ".py",
   "mimetype": "text/x-python",
   "name": "python",
   "nbconvert_exporter": "python",
   "pygments_lexer": "ipython3",
   "version": "3.12.7"
  }
 },
 "nbformat": 4,
 "nbformat_minor": 5
}
