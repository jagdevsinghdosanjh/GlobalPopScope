{
 "cells": [
  {
   "cell_type": "code",
   "execution_count": 4,
   "id": "a3092f51",
   "metadata": {},
   "outputs": [
    {
     "name": "stdout",
     "output_type": "stream",
     "text": [
      "Collecting rpy2\n",
      "  Downloading rpy2-3.6.1-py3-none-any.whl.metadata (5.4 kB)\n",
      "Collecting rpy2-rinterface>=3.6.1 (from rpy2)\n",
      "  Downloading rpy2_rinterface-3.6.1-cp312-cp312-win_amd64.whl.metadata (2.0 kB)\n",
      "Collecting rpy2-robjects>=3.6.1 (from rpy2)\n",
      "  Downloading rpy2_robjects-3.6.1-py3-none-any.whl.metadata (3.3 kB)\n",
      "Requirement already satisfied: packaging in c:\\users\\jagdevsinghdosanjh.rhino\\globalpopscope\\.venv\\lib\\site-packages (from rpy2) (25.0)\n",
      "Collecting cffi>=1.15.1 (from rpy2-rinterface>=3.6.1->rpy2)\n",
      "  Using cached cffi-1.17.1-cp312-cp312-win_amd64.whl.metadata (1.6 kB)\n",
      "Collecting jinja2 (from rpy2-robjects>=3.6.1->rpy2)\n",
      "  Using cached jinja2-3.1.6-py3-none-any.whl.metadata (2.9 kB)\n",
      "Collecting tzlocal (from rpy2-robjects>=3.6.1->rpy2)\n",
      "  Downloading tzlocal-5.3.1-py3-none-any.whl.metadata (7.6 kB)\n",
      "Collecting pycparser (from cffi>=1.15.1->rpy2-rinterface>=3.6.1->rpy2)\n",
      "  Using cached pycparser-2.22-py3-none-any.whl.metadata (943 bytes)\n",
      "Collecting MarkupSafe>=2.0 (from jinja2->rpy2-robjects>=3.6.1->rpy2)\n",
      "  Using cached MarkupSafe-3.0.2-cp312-cp312-win_amd64.whl.metadata (4.1 kB)\n",
      "Requirement already satisfied: tzdata in c:\\users\\jagdevsinghdosanjh.rhino\\globalpopscope\\.venv\\lib\\site-packages (from tzlocal->rpy2-robjects>=3.6.1->rpy2) (2025.2)\n",
      "Downloading rpy2-3.6.1-py3-none-any.whl (9.9 kB)\n",
      "Downloading rpy2_rinterface-3.6.1-cp312-cp312-win_amd64.whl (174 kB)\n",
      "Downloading rpy2_robjects-3.6.1-py3-none-any.whl (125 kB)\n",
      "Using cached cffi-1.17.1-cp312-cp312-win_amd64.whl (181 kB)\n",
      "Using cached jinja2-3.1.6-py3-none-any.whl (134 kB)\n",
      "Downloading tzlocal-5.3.1-py3-none-any.whl (18 kB)\n",
      "Using cached MarkupSafe-3.0.2-cp312-cp312-win_amd64.whl (15 kB)\n",
      "Using cached pycparser-2.22-py3-none-any.whl (117 kB)\n",
      "Installing collected packages: tzlocal, pycparser, MarkupSafe, jinja2, cffi, rpy2-rinterface, rpy2-robjects, rpy2\n",
      "Successfully installed MarkupSafe-3.0.2 cffi-1.17.1 jinja2-3.1.6 pycparser-2.22 rpy2-3.6.1 rpy2-rinterface-3.6.1 rpy2-robjects-3.6.1 tzlocal-5.3.1\n",
      "Note: you may need to restart the kernel to use updated packages.\n"
     ]
    },
    {
     "name": "stderr",
     "output_type": "stream",
     "text": [
      "\n",
      "[notice] A new release of pip is available: 24.2 -> 25.1.1\n",
      "[notice] To update, run: python.exe -m pip install --upgrade pip\n",
      "UsageError: Line magic function `%%R` not found.\n"
     ]
    }
   ],
   "source": [
    "%pip install rpy2\n",
    "\n",
    "%%R\n",
    "install.packages(\"devtools\")\n",
    "library(wpp2022)\n"
   ]
  },
  {
   "cell_type": "code",
   "execution_count": 15,
   "id": "299b0017",
   "metadata": {},
   "outputs": [
    {
     "name": "stderr",
     "output_type": "stream",
     "text": [
      "UsageError: Cell magic `%%R` not found.\n"
     ]
    }
   ],
   "source": [
    "%%R\n",
    "install.packages(\"languageserver\")   # Enables IntelliSense in VS Code\n",
    "install.packages(\"httpgd\")           # Interactive plot viewer\n",
    "install.packages(\"rmarkdown\")        # For reproducible reports\n",
    "install.packages(\"ggplot2\")          # For data visualization\n",
    "install.packages(\"dplyr\")            # For data manipulation"
   ]
  }
 ],
 "metadata": {
  "kernelspec": {
   "display_name": ".venv",
   "language": "python",
   "name": "python3"
  },
  "language_info": {
   "codemirror_mode": {
    "name": "ipython",
    "version": 3
   },
   "file_extension": ".py",
   "mimetype": "text/x-python",
   "name": "python",
   "nbconvert_exporter": "python",
   "pygments_lexer": "ipython3",
   "version": "3.12.7"
  }
 },
 "nbformat": 4,
 "nbformat_minor": 5
}
