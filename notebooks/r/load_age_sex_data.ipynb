{
 "cells": [
  {
   "cell_type": "code",
   "execution_count": null,
   "id": "a3092f51",
   "metadata": {},
   "outputs": [],
   "source": [
    "%pip install rpy2\n",
    "\n",
    "%%R\n",
    "install.packages(\"devtools\")\n",
    "library(wpp2022)\n"
   ]
  },
  {
   "cell_type": "code",
   "execution_count": null,
   "id": "299b0017",
   "metadata": {},
   "outputs": [],
   "source": [
    "%%R\n",
    "install.packages(\"languageserver\")   # Enables IntelliSense in VS Code\n",
    "install.packages(\"httpgd\")           # Interactive plot viewer\n",
    "install.packages(\"rmarkdown\")        # For reproducible reports\n",
    "install.packages(\"ggplot2\")          # For data visualization\n",
    "install.packages(\"dplyr\")            # For data manipulation"
   ]
  }
 ],
 "metadata": {
  "kernelspec": {
   "display_name": ".venv",
   "language": "python",
   "name": "python3"
  },
  "language_info": {
   "codemirror_mode": {
    "name": "ipython",
    "version": 3
   },
   "file_extension": ".py",
   "mimetype": "text/x-python",
   "name": "python",
   "nbconvert_exporter": "python",
   "pygments_lexer": "ipython3",
   "version": "3.12.7"
  }
 },
 "nbformat": 4,
 "nbformat_minor": 5
}
