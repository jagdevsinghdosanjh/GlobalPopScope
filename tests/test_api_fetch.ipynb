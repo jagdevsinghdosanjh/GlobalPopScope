{
 "cells": [
  {
   "cell_type": "code",
   "execution_count": 1,
   "id": "6372fe95",
   "metadata": {},
   "outputs": [
    {
     "ename": "ModuleNotFoundError",
     "evalue": "No module named 'src'",
     "output_type": "error",
     "traceback": [
      "\u001b[31m---------------------------------------------------------------------------\u001b[39m",
      "\u001b[31mModuleNotFoundError\u001b[39m                       Traceback (most recent call last)",
      "\u001b[36mCell\u001b[39m\u001b[36m \u001b[39m\u001b[32mIn[1]\u001b[39m\u001b[32m, line 2\u001b[39m\n\u001b[32m      1\u001b[39m \u001b[38;5;66;03m# tests/test_api_fetch.py\u001b[39;00m\n\u001b[32m----> \u001b[39m\u001b[32m2\u001b[39m \u001b[38;5;28;01mfrom\u001b[39;00m\u001b[38;5;250m \u001b[39m\u001b[34;01msrc\u001b[39;00m\u001b[34;01m.\u001b[39;00m\u001b[34;01mpython\u001b[39;00m\u001b[34;01m.\u001b[39;00m\u001b[34;01mapi_fetch\u001b[39;00m\u001b[38;5;250m \u001b[39m\u001b[38;5;28;01mimport\u001b[39;00m fetch_indicators, fetch_indicator_data, fetch_goals\n\u001b[32m      4\u001b[39m \u001b[38;5;28;01mdef\u001b[39;00m\u001b[38;5;250m \u001b[39m\u001b[34mtest_all\u001b[39m():\n\u001b[32m      5\u001b[39m     \u001b[38;5;28mprint\u001b[39m(\u001b[33m\"\u001b[39m\u001b[38;5;130;01m\\n\u001b[39;00m\u001b[33m🔎 Testing UN SDG API connectivity...\u001b[39m\u001b[33m\"\u001b[39m)\n",
      "\u001b[31mModuleNotFoundError\u001b[39m: No module named 'src'"
     ]
    }
   ],
   "source": [
    "# tests/test_api_fetch.py\n",
    "from src.python.api_fetch import fetch_indicators, fetch_indicator_data, fetch_goals\n",
    "\n",
    "def test_all():\n",
    "    print(\"\\n🔎 Testing UN SDG API connectivity...\")\n",
    "    \n",
    "    indicators = fetch_indicators()\n",
    "    if indicators:\n",
    "        print(f\"✅ Retrieved {len(indicators)} indicators\")\n",
    "        sample_code = indicators[0][\"code\"]\n",
    "        data = fetch_indicator_data(sample_code)\n",
    "        print(f\"📊 Sample indicator ({sample_code}) returned {len(data.get('series', []))} records\")\n",
    "\n",
    "    goals = fetch_goals()\n",
    "    if goals:\n",
    "        print(f\"🌍 Retrieved {len(goals)} goals\")\n",
    "\n",
    "if __name__ == \"__main__\":\n",
    "    test_all()\n"
   ]
  }
 ],
 "metadata": {
  "kernelspec": {
   "display_name": ".venv",
   "language": "python",
   "name": "python3"
  },
  "language_info": {
   "codemirror_mode": {
    "name": "ipython",
    "version": 3
   },
   "file_extension": ".py",
   "mimetype": "text/x-python",
   "name": "python",
   "nbconvert_exporter": "python",
   "pygments_lexer": "ipython3",
   "version": "3.12.7"
  }
 },
 "nbformat": 4,
 "nbformat_minor": 5
}
